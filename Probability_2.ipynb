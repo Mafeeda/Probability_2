{
 "cells": [
  {
   "cell_type": "markdown",
   "id": "95d67af9",
   "metadata": {},
   "source": [
    "## Problem - 2"
   ]
  },
  {
   "cell_type": "markdown",
   "id": "99453483",
   "metadata": {},
   "source": [
    "### Suppose GMAT scores can be reasonably modeled using a normal distribution with mean=711 and SD = 29.\n",
    "### 1.  What is P(X<=680)\n",
    "### 2.  What is P(697<=X<=740)"
   ]
  },
  {
   "cell_type": "code",
   "execution_count": 1,
   "id": "72ac189a",
   "metadata": {},
   "outputs": [],
   "source": [
    "import numpy as np\n",
    "import matplotlib.pyplot as plt\n",
    "from scipy import stats\n",
    "from scipy.stats import norm"
   ]
  },
  {
   "cell_type": "code",
   "execution_count": 2,
   "id": "6083ebe5",
   "metadata": {},
   "outputs": [
    {
     "data": {
      "image/png": "[encoded data removed]",
      "text/plain": [
       "<Figure size 432x288 with 1 Axes>"
      ]
     },
     "metadata": {
      "needs_background": "light"
     },
     "output_type": "display_data"
    }
   ],
   "source": [
    "dist=np.linspace(600,800,1000)\n",
    "plt.plot(dist,norm.pdf(dist,711,29))\n",
    "plt.title(\"Standard Normal\")\n",
    "plt.xlabel(\"Values\")\n",
    "plt.ylabel(\"Density\")\n",
    "plt.show()"
   ]
  },
  {
   "cell_type": "code",
   "execution_count": 3,
   "id": "eea6a02e",
   "metadata": {},
   "outputs": [
    {
     "data": {
      "text/plain": [
       "0.14254260383881612"
      ]
     },
     "execution_count": 3,
     "metadata": {},
     "output_type": "execute_result"
    }
   ],
   "source": [
    "# 1. P(X<=680)\n",
    "stats.norm.cdf(680,711,29)"
   ]
  },
  {
   "cell_type": "code",
   "execution_count": 4,
   "id": "ba2791e5",
   "metadata": {},
   "outputs": [],
   "source": [
    "# 2. P(697<=X<=740)"
   ]
  },
  {
   "cell_type": "code",
   "execution_count": 5,
   "id": "8f7cf2a5",
   "metadata": {},
   "outputs": [
    {
     "data": {
      "text/plain": [
       "0.8413447460685429"
      ]
     },
     "execution_count": 5,
     "metadata": {},
     "output_type": "execute_result"
    }
   ],
   "source": [
    "# P(X<=740)\n",
    "stats.norm.cdf(740,711,29) #a"
   ]
  },
  {
   "cell_type": "code",
   "execution_count": 6,
   "id": "4bc74f01",
   "metadata": {},
   "outputs": [
    {
     "data": {
      "text/plain": [
       "0.31463356742704107"
      ]
     },
     "execution_count": 6,
     "metadata": {},
     "output_type": "execute_result"
    }
   ],
   "source": [
    "# P(X<=697)\n",
    "stats.norm.cdf(697,711,29) #b"
   ]
  },
  {
   "cell_type": "code",
   "execution_count": 7,
   "id": "23f7139e",
   "metadata": {},
   "outputs": [
    {
     "data": {
      "text/plain": [
       "0.5267000000000001"
      ]
     },
     "execution_count": 7,
     "metadata": {},
     "output_type": "execute_result"
    }
   ],
   "source": [
    "#  P(X<=740)-P(X<=697)\n",
    "0.8413-0.3146 # a-b"
   ]
  },
  {
   "cell_type": "code",
   "execution_count": 8,
   "id": "f4c07a0a",
   "metadata": {},
   "outputs": [
    {
     "data": {
      "text/plain": [
       "0.5267111786415019"
      ]
     },
     "execution_count": 8,
     "metadata": {},
     "output_type": "execute_result"
    }
   ],
   "source": [
    "# P(697<=X<=740) \n",
    "stats.norm.cdf(740,711,29)-stats.norm.cdf(697,711,29) # direct code"
   ]
  },
  {
   "cell_type": "code",
   "execution_count": 9,
   "id": "a8d94861",
   "metadata": {},
   "outputs": [
    {
     "data": {
      "text/plain": [
       "0.15865525393145707"
      ]
     },
     "execution_count": 9,
     "metadata": {},
     "output_type": "execute_result"
    }
   ],
   "source": [
    "#3. P(X>=740)\n",
    "1-stats.norm.cdf(740,711,29)"
   ]
  },
  {
   "cell_type": "code",
   "execution_count": null,
   "id": "360d530b",
   "metadata": {},
   "outputs": [],
   "source": []
  }
 ],
 "metadata": {
  "kernelspec": {
   "display_name": "Python 3",
   "language": "python",
   "name": "python3"
  },
  "language_info": {
   "codemirror_mode": {
    "name": "ipython",
    "version": 3
   },
   "file_extension": ".py",
   "mimetype": "text/x-python",
   "name": "python",
   "nbconvert_exporter": "python",
   "pygments_lexer": "ipython3",
   "version": "3.8.8"
  }
 },
 "nbformat": 4,
 "nbformat_minor": 5
}
